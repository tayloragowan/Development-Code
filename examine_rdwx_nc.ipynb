{
 "cells": [
  {
   "cell_type": "code",
   "execution_count": 16,
   "id": "4e053382-fb8c-4472-ad5d-aa0c3a6b884b",
   "metadata": {},
   "outputs": [],
   "source": [
    "import xarray as xr\n",
    "import numpy as np\n",
    "import matplotlib.pyplot as plt"
   ]
  },
  {
   "cell_type": "markdown",
   "id": "16ca8744-9cf5-44bc-a02d-140f4bd89dd1",
   "metadata": {},
   "source": [
    "### Inspect the netCDF file"
   ]
  },
  {
   "cell_type": "code",
   "execution_count": 18,
   "id": "2857e04d-f47c-4102-8900-ae333a807bc7",
   "metadata": {},
   "outputs": [
    {
     "data": {
      "text/plain": [
       "<bound method Dataset.info of <xarray.Dataset>\n",
       "Dimensions:                       (max_site_num: 1780, days: 5, fc_times_per_day: 24, daily_time: 1)\n",
       "Dimensions without coordinates: max_site_num, days, fc_times_per_day, daily_time\n",
       "Data variables: (12/60)\n",
       "    T                             (max_site_num, days, fc_times_per_day) float32 ...\n",
       "    dewpt                         (max_site_num, days, fc_times_per_day) float32 ...\n",
       "    cloud_cov                     (max_site_num, days, fc_times_per_day) float32 ...\n",
       "    prob_fog                      (max_site_num, days, fc_times_per_day) float32 ...\n",
       "    prob_thunder                  (max_site_num, days, fc_times_per_day) float32 ...\n",
       "    cprob_rain                    (max_site_num, days, fc_times_per_day) float32 ...\n",
       "    ...                            ...\n",
       "    Metx_max_T                    (max_site_num, days, daily_time) float32 ...\n",
       "    Metx_min_T                    (max_site_num, days, daily_time) float32 ...\n",
       "    site_list                     (max_site_num) float64 ...\n",
       "    creation_time                 datetime64[ns] ...\n",
       "    forc_time                     datetime64[ns] ...\n",
       "    num_sites                     int32 ...>"
      ]
     },
     "execution_count": 18,
     "metadata": {},
     "output_type": "execute_result"
    }
   ],
   "source": [
    "rdwx_nc = xr.open_dataset('rdwx_fcst.20211125.0030.nc')\n",
    "rdwx_nc.info"
   ]
  },
  {
   "cell_type": "markdown",
   "id": "39d4f342-367e-4428-a050-c9d7ac0bed7d",
   "metadata": {},
   "source": [
    "### Get the Temperature variable and look at the output"
   ]
  },
  {
   "cell_type": "code",
   "execution_count": 15,
   "id": "cabf3c64-246c-4988-88f9-43c9b5452d78",
   "metadata": {},
   "outputs": [
    {
     "name": "stdout",
     "output_type": "stream",
     "text": [
      "Array shape = (1780, 5, 24)\n"
     ]
    },
    {
     "data": {
      "text/plain": [
       "array([[[25., 24., 24., ..., 42., 42., 41.],\n",
       "        [39., 37., 36., ..., 37., 36., 35.],\n",
       "        [32., 29., 27., ..., 28., nan, nan],\n",
       "        [nan, nan, nan, ..., nan, nan, nan],\n",
       "        [nan, nan, nan, ..., nan, nan, nan]],\n",
       "\n",
       "       [[28., 28., 28., ..., 42., 41., 39.],\n",
       "        [36., 36., 36., ..., 38., 36., 33.],\n",
       "        [30., 29., 28., ..., 33., nan, nan],\n",
       "        [nan, nan, nan, ..., nan, nan, nan],\n",
       "        [nan, nan, nan, ..., nan, nan, nan]],\n",
       "\n",
       "       [[29., 29., 29., ..., 45., 43., 41.],\n",
       "        [39., 39., 38., ..., 39., 37., 34.],\n",
       "        [32., 31., 30., ..., 34., nan, nan],\n",
       "        [nan, nan, nan, ..., nan, nan, nan],\n",
       "        [nan, nan, nan, ..., nan, nan, nan]],\n",
       "\n",
       "       ...,\n",
       "\n",
       "       [[nan, nan, nan, ..., nan, nan, nan],\n",
       "        [nan, nan, nan, ..., nan, nan, nan],\n",
       "        [nan, nan, nan, ..., nan, nan, nan],\n",
       "        [nan, nan, nan, ..., nan, nan, nan],\n",
       "        [nan, nan, nan, ..., nan, nan, nan]],\n",
       "\n",
       "       [[nan, nan, nan, ..., nan, nan, nan],\n",
       "        [nan, nan, nan, ..., nan, nan, nan],\n",
       "        [nan, nan, nan, ..., nan, nan, nan],\n",
       "        [nan, nan, nan, ..., nan, nan, nan],\n",
       "        [nan, nan, nan, ..., nan, nan, nan]],\n",
       "\n",
       "       [[nan, nan, nan, ..., nan, nan, nan],\n",
       "        [nan, nan, nan, ..., nan, nan, nan],\n",
       "        [nan, nan, nan, ..., nan, nan, nan],\n",
       "        [nan, nan, nan, ..., nan, nan, nan],\n",
       "        [nan, nan, nan, ..., nan, nan, nan]]], dtype=float32)"
      ]
     },
     "execution_count": 15,
     "metadata": {},
     "output_type": "execute_result"
    }
   ],
   "source": [
    "print('Array shape =',rdwx_nc['TempF'].shape)\n",
    "\n",
    "rdwx_nc['TempF'].values"
   ]
  },
  {
   "cell_type": "markdown",
   "id": "5023e048-7426-48c0-ac62-3d4b667b7cc1",
   "metadata": {},
   "source": [
    "### Show how many NaN values are in each column"
   ]
  },
  {
   "cell_type": "code",
   "execution_count": 20,
   "id": "6eea2989-8203-4413-8a74-8d833c32926e",
   "metadata": {},
   "outputs": [
    {
     "data": {
      "text/plain": [
       "array([[ 103,  103,  103,  103,  103,  103,  103,  103,  103,  103,  103,\n",
       "         103,  103,  103,  103,  103,  103,  103,  103,  103,  103,  103,\n",
       "         103,  103],\n",
       "       [ 103,  103,  103,  103,  103,  103,  103,  103,  103,  103,  103,\n",
       "         103,  103,  103,  103,  103,  103,  103,  103,  103,  103,  103,\n",
       "         103,  103],\n",
       "       [ 103,  103,  103,  103,  103,  103,  103,  103,  103,  103,  103,\n",
       "         103,  103,  103,  103,  103,  103,  103,  103,  103,  103,  103,\n",
       "        1780, 1780],\n",
       "       [1780, 1780, 1780, 1780, 1780, 1780, 1780, 1780, 1780, 1780, 1780,\n",
       "        1780, 1780, 1780, 1780, 1780, 1780, 1780, 1780, 1780, 1780, 1780,\n",
       "        1780, 1780],\n",
       "       [1780, 1780, 1780, 1780, 1780, 1780, 1780, 1780, 1780, 1780, 1780,\n",
       "        1780, 1780, 1780, 1780, 1780, 1780, 1780, 1780, 1780, 1780, 1780,\n",
       "        1780, 1780]])"
      ]
     },
     "execution_count": 20,
     "metadata": {},
     "output_type": "execute_result"
    }
   ],
   "source": [
    "np.count_nonzero(np.isnan(rdwx_nc['TempF'].values),axis=0)"
   ]
  }
 ],
 "metadata": {
  "kernelspec": {
   "display_name": "Python 3 (ipykernel)",
   "language": "python",
   "name": "python3"
  },
  "language_info": {
   "codemirror_mode": {
    "name": "ipython",
    "version": 3
   },
   "file_extension": ".py",
   "mimetype": "text/x-python",
   "name": "python",
   "nbconvert_exporter": "python",
   "pygments_lexer": "ipython3",
   "version": "3.9.7"
  }
 },
 "nbformat": 4,
 "nbformat_minor": 5
}
